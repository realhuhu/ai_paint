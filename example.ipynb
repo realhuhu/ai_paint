{
 "cells": [
  {
   "cell_type": "code",
   "execution_count": 3,
   "id": "31afa7a2",
   "metadata": {},
   "outputs": [
    {
     "ename": "ModuleNotFoundError",
     "evalue": "No module named 'jsonmerge'",
     "output_type": "error",
     "traceback": [
      "\u001B[1;31m---------------------------------------------------------------------------\u001B[0m",
      "\u001B[1;31mModuleNotFoundError\u001B[0m                       Traceback (most recent call last)",
      "\u001B[1;32m~\\AppData\\Local\\Temp/ipykernel_26088/3936940123.py\u001B[0m in \u001B[0;36m<module>\u001B[1;34m\u001B[0m\n\u001B[1;32m----> 1\u001B[1;33m \u001B[1;32mfrom\u001B[0m \u001B[0mutils\u001B[0m \u001B[1;32mimport\u001B[0m \u001B[0mload_novelAI\u001B[0m\u001B[1;33m,\u001B[0m\u001B[0mKDiffusionSampler\u001B[0m\u001B[1;33m,\u001B[0m\u001B[0mtxt2img\u001B[0m\u001B[1;33m,\u001B[0m\u001B[0mimg2img\u001B[0m\u001B[1;33m,\u001B[0m\u001B[0mFaceRestorerCodeFormer\u001B[0m\u001B[1;33m\u001B[0m\u001B[1;33m\u001B[0m\u001B[0m\n\u001B[0m\u001B[0;32m      2\u001B[0m \u001B[1;33m\u001B[0m\u001B[0m\n",
      "\u001B[1;32m~\\Desktop\\ap\\utils.py\u001B[0m in \u001B[0;36m<module>\u001B[1;34m\u001B[0m\n\u001B[0;32m      4\u001B[0m \u001B[1;32mfrom\u001B[0m \u001B[0mPIL\u001B[0m \u001B[1;32mimport\u001B[0m \u001B[0mImage\u001B[0m\u001B[1;33m\u001B[0m\u001B[1;33m\u001B[0m\u001B[0m\n\u001B[0;32m      5\u001B[0m \u001B[1;32mfrom\u001B[0m \u001B[0mprompt_parser\u001B[0m \u001B[1;32mimport\u001B[0m \u001B[0mget_learned_conditioning\u001B[0m\u001B[1;33m,\u001B[0m \u001B[0mget_multicond_learned_conditioning\u001B[0m\u001B[1;33m\u001B[0m\u001B[1;33m\u001B[0m\u001B[0m\n\u001B[1;32m----> 6\u001B[1;33m \u001B[1;32mfrom\u001B[0m \u001B[0msampler\u001B[0m \u001B[1;32mimport\u001B[0m \u001B[0mKDiffusionSampler\u001B[0m\u001B[1;33m\u001B[0m\u001B[1;33m\u001B[0m\u001B[0m\n\u001B[0m\u001B[0;32m      7\u001B[0m \u001B[1;32mfrom\u001B[0m \u001B[0mload_model\u001B[0m \u001B[1;32mimport\u001B[0m \u001B[0mload_novelAI\u001B[0m\u001B[1;33m\u001B[0m\u001B[1;33m\u001B[0m\u001B[0m\n\u001B[0;32m      8\u001B[0m \u001B[1;32mfrom\u001B[0m \u001B[0mface_restoration\u001B[0m \u001B[1;32mimport\u001B[0m \u001B[0mFaceRestorerCodeFormer\u001B[0m\u001B[1;33m\u001B[0m\u001B[1;33m\u001B[0m\u001B[0m\n",
      "\u001B[1;32m~\\Desktop\\ap\\sampler.py\u001B[0m in \u001B[0;36m<module>\u001B[1;34m\u001B[0m\n\u001B[0;32m      2\u001B[0m \u001B[1;32mimport\u001B[0m \u001B[0mtorch\u001B[0m\u001B[1;33m\u001B[0m\u001B[1;33m\u001B[0m\u001B[0m\n\u001B[0;32m      3\u001B[0m \u001B[1;32mimport\u001B[0m \u001B[0mprompt_parser\u001B[0m\u001B[1;33m\u001B[0m\u001B[1;33m\u001B[0m\u001B[0m\n\u001B[1;32m----> 4\u001B[1;33m \u001B[1;32mimport\u001B[0m \u001B[0mk_diffusion\u001B[0m\u001B[1;33m.\u001B[0m\u001B[0msampling\u001B[0m\u001B[1;33m\u001B[0m\u001B[1;33m\u001B[0m\u001B[0m\n\u001B[0m\u001B[0;32m      5\u001B[0m \u001B[1;32mfrom\u001B[0m \u001B[0mk_diffusion\u001B[0m\u001B[1;33m.\u001B[0m\u001B[0mexternal\u001B[0m \u001B[1;32mimport\u001B[0m \u001B[0mCompVisDenoiser\u001B[0m\u001B[1;33m\u001B[0m\u001B[1;33m\u001B[0m\u001B[0m\n\u001B[0;32m      6\u001B[0m \u001B[1;33m\u001B[0m\u001B[0m\n",
      "\u001B[1;32m~\\Desktop\\ap\\k_diffusion\\__init__.py\u001B[0m in \u001B[0;36m<module>\u001B[1;34m\u001B[0m\n\u001B[1;32m----> 1\u001B[1;33m \u001B[1;32mfrom\u001B[0m \u001B[1;33m.\u001B[0m \u001B[1;32mimport\u001B[0m \u001B[0maugmentation\u001B[0m\u001B[1;33m,\u001B[0m \u001B[0mconfig\u001B[0m\u001B[1;33m,\u001B[0m \u001B[0mevaluation\u001B[0m\u001B[1;33m,\u001B[0m \u001B[0mexternal\u001B[0m\u001B[1;33m,\u001B[0m \u001B[0mgns\u001B[0m\u001B[1;33m,\u001B[0m \u001B[0mlayers\u001B[0m\u001B[1;33m,\u001B[0m \u001B[0mmodels\u001B[0m\u001B[1;33m,\u001B[0m \u001B[0msampling\u001B[0m\u001B[1;33m,\u001B[0m \u001B[0mutils\u001B[0m\u001B[1;33m\u001B[0m\u001B[1;33m\u001B[0m\u001B[0m\n\u001B[0m\u001B[0;32m      2\u001B[0m \u001B[1;32mfrom\u001B[0m \u001B[1;33m.\u001B[0m\u001B[0mlayers\u001B[0m \u001B[1;32mimport\u001B[0m \u001B[0mDenoiser\u001B[0m\u001B[1;33m\u001B[0m\u001B[1;33m\u001B[0m\u001B[0m\n",
      "\u001B[1;32m~\\Desktop\\ap\\k_diffusion\\config.py\u001B[0m in \u001B[0;36m<module>\u001B[1;34m\u001B[0m\n\u001B[0;32m      4\u001B[0m \u001B[1;32mimport\u001B[0m \u001B[0mwarnings\u001B[0m\u001B[1;33m\u001B[0m\u001B[1;33m\u001B[0m\u001B[0m\n\u001B[0;32m      5\u001B[0m \u001B[1;33m\u001B[0m\u001B[0m\n\u001B[1;32m----> 6\u001B[1;33m \u001B[1;32mfrom\u001B[0m \u001B[0mjsonmerge\u001B[0m \u001B[1;32mimport\u001B[0m \u001B[0mmerge\u001B[0m\u001B[1;33m\u001B[0m\u001B[1;33m\u001B[0m\u001B[0m\n\u001B[0m\u001B[0;32m      7\u001B[0m \u001B[1;33m\u001B[0m\u001B[0m\n\u001B[0;32m      8\u001B[0m \u001B[1;32mfrom\u001B[0m \u001B[1;33m.\u001B[0m \u001B[1;32mimport\u001B[0m \u001B[0maugmentation\u001B[0m\u001B[1;33m,\u001B[0m \u001B[0mlayers\u001B[0m\u001B[1;33m,\u001B[0m \u001B[0mmodels\u001B[0m\u001B[1;33m,\u001B[0m \u001B[0mutils\u001B[0m\u001B[1;33m\u001B[0m\u001B[1;33m\u001B[0m\u001B[0m\n",
      "\u001B[1;31mModuleNotFoundError\u001B[0m: No module named 'jsonmerge'"
     ]
    }
   ],
   "source": [
    "from utils import load_novelAI,KDiffusionSampler,txt2img,img2img,FaceRestorerCodeFormer"
   ]
  },
  {
   "cell_type": "code",
   "execution_count": null,
   "id": "11613124",
   "metadata": {},
   "outputs": [],
   "source": [
    "checkpoint_file=\"./weights/models/latest.ckpt\"\n",
    "vae_file=\"./weights/models/latest.vae.pt\"\n",
    "face_restoration_file=\"./weights/facelib/codeformer.pth\"\n",
    "config=\"./config.yaml\""
   ]
  },
  {
   "cell_type": "code",
   "execution_count": null,
   "id": "ee4748be",
   "metadata": {},
   "outputs": [],
   "source": [
    "sd_model=load_novelAI(checkpoint_file,vae_file,config)"
   ]
  },
  {
   "cell_type": "code",
   "execution_count": null,
   "id": "a0bbe5e2",
   "metadata": {},
   "outputs": [],
   "source": [
    "sampler=KDiffusionSampler(\"sample_euler_ancestral\",sd_model)"
   ]
  },
  {
   "cell_type": "code",
   "execution_count": null,
   "id": "d205a8f9",
   "metadata": {},
   "outputs": [],
   "source": [
    "face_restoration=FaceRestorerCodeFormer(face_restoration_file)"
   ]
  },
  {
   "cell_type": "code",
   "execution_count": null,
   "id": "8c7f78d8",
   "metadata": {},
   "outputs": [],
   "source": [
    "prompt=\"extremely detailed CG unity 8k wallpaper,black long hair,cute face,1 adlut girl,happy, green skirt dress, flower pattern in dress,solo,green gown,art of light novel,in field\"\n",
    "negative_prompt=\"lowres, bad anatomy, bad hands, text, error, missing fingers, extra digit, fewer digits, cropped, worst quality, low quality, normal quality, jpeg artifacts, signature, watermark, username, blurry\""
   ]
  },
  {
   "cell_type": "code",
   "execution_count": null,
   "id": "2f7edaa5",
   "metadata": {},
   "outputs": [],
   "source": [
    "txt2img(sd_model,sampler,prompt,negative_prompt,face_restoration=face_restoration)"
   ]
  }
 ],
 "metadata": {
  "kernelspec": {
   "display_name": "Python 3 (ipykernel)",
   "language": "python",
   "name": "python3"
  },
  "language_info": {
   "codemirror_mode": {
    "name": "ipython",
    "version": 3
   },
   "file_extension": ".py",
   "mimetype": "text/x-python",
   "name": "python",
   "nbconvert_exporter": "python",
   "pygments_lexer": "ipython3",
   "version": "3.8.12"
  }
 },
 "nbformat": 4,
 "nbformat_minor": 5
}